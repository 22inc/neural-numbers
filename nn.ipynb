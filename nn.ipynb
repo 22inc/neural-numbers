{
 "cells": [
  {
   "cell_type": "code",
   "execution_count": null,
   "metadata": {},
   "outputs": [],
   "source": [
    "import numpy as np\n",
    "import tensorflow as tf\n",
    "import tensorflow_datasets as tfds\n",
    "import keras as ks\n",
    "import sklearn as sk\n",
    "import matplotlib.pyplot as plt\n",
    "import random as rd"
   ]
  },
  {
   "cell_type": "code",
   "execution_count": null,
   "metadata": {},
   "outputs": [],
   "source": [
    "ds = tf.keras.datasets.mnist\n",
    "# 28x28, hand-written digits. (MNIST/EMNIST/MNIST_CORRUPTED/CMATERDB for TFDS.)"
   ]
  },
  {
   "cell_type": "code",
   "execution_count": null,
   "metadata": {},
   "outputs": [],
   "source": [
    "(xtr, ytr), (xte, yte) = ds.load_data()\n",
    "# Load data from the provided dataset."
   ]
  },
  {
   "cell_type": "code",
   "execution_count": null,
   "metadata": {},
   "outputs": [],
   "source": [
    "xtr = tf.keras.utils.normalize(xtr, axis = 1) \n",
    "xte = tf.keras.utils.normalize(xte, axis = 1)\n",
    "# Normalize said data."
   ]
  },
  {
   "cell_type": "code",
   "execution_count": null,
   "metadata": {},
   "outputs": [],
   "source": [
    "mdl = tf.keras.models.Sequential()\n",
    "mdl.add(tf.keras.layers.Flatten())\n",
    "mdl.add(tf.keras.layers.Dense(128, activation = tf.nn.relu))\n",
    "mdl.add(tf.keras.layers.Dense(128, activation = tf.nn.relu))\n",
    "mdl.add(tf.keras.layers.Dense(10, activation = tf.nn.softmax))\n",
    "# Set params for 'mdl'."
   ]
  },
  {
   "cell_type": "code",
   "execution_count": null,
   "metadata": {},
   "outputs": [],
   "source": [
    "mdl.compile(optimizer = 'adam',\n",
    "            loss = 'sparse_categorical_crossentropy',\n",
    "            metrics = ['accuracy'])\n",
    "# Compile 'mdl' with provided optimizer. | In this case the optimizer is 'adam'."
   ]
  },
  {
   "cell_type": "code",
   "execution_count": null,
   "metadata": {},
   "outputs": [],
   "source": [
    "# mdl.fit(xte, yte, epochs = 50) # Can be removed if not needed.\n",
    "# Train the model on the provideded dataset. | In this case it will train for 50 epochs."
   ]
  },
  {
   "cell_type": "code",
   "execution_count": null,
   "metadata": {},
   "outputs": [],
   "source": [
    "# vl, va = mdl.evaluate(xte, yte) # Can be removed if not needed.\n",
    "# Evaulate accuracy of the neural network."
   ]
  },
  {
   "cell_type": "code",
   "execution_count": null,
   "metadata": {},
   "outputs": [],
   "source": [
    "# mdl.save(\"#\") (Save the dataset.) # Can be removed if not needed.\n",
    "newmdl = tf.keras.models.load_model('#')\n",
    "# Save and load the trained dataset for the NN."
   ]
  },
  {
   "cell_type": "code",
   "execution_count": null,
   "metadata": {},
   "outputs": [],
   "source": [
    "prediction = newmdl.predict([xte])\n",
    "# Makes the prediction function so it can be called upon."
   ]
  },
  {
   "cell_type": "code",
   "execution_count": null,
   "metadata": {},
   "outputs": [],
   "source": [
    "rndm = rd.randint(0, 10000)"
   ]
  },
  {
   "cell_type": "code",
   "execution_count": null,
   "metadata": {},
   "outputs": [],
   "source": [
    "def pd():\n",
    "    print(np.argmax(prediction[rndm]))\n",
    "    plt.imshow(xte[rndm])\n",
    "    plt.show()\n",
    "    # Use a random integer between 0 - 10,0000 and then predict what digit the image is based on the dataset entry of the random int."
   ]
  },
  {
   "cell_type": "code",
   "execution_count": null,
   "metadata": {},
   "outputs": [],
   "source": [
    "while True:\n",
    "    inp = input(\"Generate? (y/n)?\\n\").lower()\n",
    "    if inp in ['y', 'yes']:\n",
    "        rndm = rd.randint(0, 10000)\n",
    "        pd()\n",
    "    elif inp in ['n', 'no']:\n",
    "        print(\"Thank you for using a program made by Malik Hassan!\")\n",
    "        quit()\n",
    "    else:\n",
    "        print(\"Invalid input. Please enter 'y', 'yes', 'n', or 'no'.\")\n",
    "# Make sure that you want to generate to free up memory.\n",
    "\n",
    "# Use \"nn.py\" if possible, VS Notebook will not be able to use the \"quit()\" func."
   ]
  }
 ],
 "metadata": {
  "kernelspec": {
   "display_name": "Python 3",
   "language": "python",
   "name": "python3"
  },
  "language_info": {
   "codemirror_mode": {
    "name": "ipython",
    "version": 3
   },
   "file_extension": ".py",
   "mimetype": "text/x-python",
   "name": "python",
   "nbconvert_exporter": "python",
   "pygments_lexer": "ipython3",
   "version": "3.11.4"
  },
  "orig_nbformat": 4
 },
 "nbformat": 4,
 "nbformat_minor": 2
}
